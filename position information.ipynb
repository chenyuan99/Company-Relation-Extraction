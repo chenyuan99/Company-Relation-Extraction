{
 "cells": [
  {
   "cell_type": "code",
   "execution_count": 1,
   "metadata": {
    "tags": []
   },
   "outputs": [
    {
     "output_type": "error",
     "ename": "FileNotFoundError",
     "evalue": "[Errno 2] No such file or directory: 'nyt10_train_no_na'",
     "traceback": [
      "\u001b[1;31m---------------------------------------------------------------------------\u001b[0m",
      "\u001b[1;31mFileNotFoundError\u001b[0m                         Traceback (most recent call last)",
      "\u001b[1;32m<ipython-input-1-aba5d723b20a>\u001b[0m in \u001b[0;36m<module>\u001b[1;34m\u001b[0m\n\u001b[0;32m      1\u001b[0m \u001b[1;32mimport\u001b[0m \u001b[0mpandas\u001b[0m \u001b[1;32mas\u001b[0m \u001b[0mpd\u001b[0m\u001b[1;33m\u001b[0m\u001b[1;33m\u001b[0m\u001b[0m\n\u001b[1;32m----> 2\u001b[1;33m \u001b[1;32mwith\u001b[0m \u001b[0mopen\u001b[0m\u001b[1;33m(\u001b[0m\u001b[1;34m\"nyt10_train_no_na\"\u001b[0m\u001b[1;33m,\u001b[0m \u001b[1;34m'r'\u001b[0m\u001b[1;33m,\u001b[0m \u001b[0mencoding\u001b[0m \u001b[1;33m=\u001b[0m \u001b[1;34m'utf-8'\u001b[0m\u001b[1;33m)\u001b[0m \u001b[1;32mas\u001b[0m \u001b[0mf\u001b[0m\u001b[1;33m:\u001b[0m\u001b[1;33m\u001b[0m\u001b[1;33m\u001b[0m\u001b[0m\n\u001b[0m\u001b[0;32m      3\u001b[0m     \u001b[0mdf\u001b[0m \u001b[1;33m=\u001b[0m \u001b[0mpd\u001b[0m\u001b[1;33m.\u001b[0m\u001b[0mread_csv\u001b[0m \u001b[1;33m(\u001b[0m\u001b[0mf\u001b[0m\u001b[1;33m)\u001b[0m\u001b[1;33m\u001b[0m\u001b[1;33m\u001b[0m\u001b[0m\n",
      "\u001b[1;31mFileNotFoundError\u001b[0m: [Errno 2] No such file or directory: 'nyt10_train_no_na'"
     ]
    }
   ],
   "source": [
    "import pandas as pd\n",
    "with open(\"nyt10_train_no_na.csv\", 'r', encoding = 'utf-8') as f:\n",
    "    df = pd.read_csv (f)"
   ]
  },
  {
   "cell_type": "code",
   "execution_count": 2,
   "metadata": {
    "tags": []
   },
   "outputs": [
    {
     "output_type": "stream",
     "name": "stdout",
     "text": "[[-9, -22], [-8, -21], [-7, -20], [-6, -19], [-5, -18], [-4, -17], [-3, -16], [-2, -15], [-1, -14], [0, -13], [], [], [], [], [], [], [], [0, -5], [], [0, -3], [0, -2], [0, -1], [0, 0], [], [], [], [-1, 0], [0, 5], [1, 1], [2, 2], [3, 3], [4, 4], [5, 5], [6, 6], [7, 7], [8, 8], [9, 9], [10, 10], [11, 11], [12, 12], [13, 13], [14, 14], [15, 15], [16, 16], [17, 17], [18, 18], [19, 19], [20, 20], [21, 21], [22, 22], [23, 23], [24, 24], [25, 25], [26, 26]]\n"
    }
   ],
   "source": [
    "import spacy\n",
    "i = 1\n",
    "nlp = spacy.load(\"en_core_web_sm\")\n",
    "doc = nlp(df.loc[i].text)\n",
    "temp = []\n",
    "temph = df.loc[i].h\n",
    "tempt = df.loc[i].t\n",
    "doch = nlp(temph)\n",
    "doct = nlp(tempt)\n",
    "tempht = []\n",
    "temptt = []\n",
    "hloc = []\n",
    "tloc =[]\n",
    "docpe =[]\n",
    "for token in doch:\n",
    "    tempht.append(token.text)\n",
    "for token in doct:\n",
    "    temptt.append(token.text)\n",
    "for token in doc:\n",
    "    if token.text in tempht: hloc.append(token.i)\n",
    "    if token.text in temptt: tloc.append(token.i)\n",
    "for token in doc:\n",
    "    temppe = []\n",
    "    tempi = token.i\n",
    "    lastt = tloc[len(tloc) - 1]\n",
    "    lasth = hloc[len(hloc) - 1]\n",
    "    if token.i in hloc:\n",
    "        temppe.append(0)\n",
    "        temppe.append(tempi - tloc[0])\n",
    "    elif token.i in tloc:\n",
    "        temppe.append(tempi - lasth)\n",
    "        temppe.append(0)\n",
    "    elif tempi <= hloc[0] and token.i <= tloc[0]:\n",
    "        temppe.append(tempi - hloc[0])\n",
    "        temppe.append(tempi - tloc[0])\n",
    "    elif tempi >= lasth and token.i <= tloc[0]:\n",
    "        temppe.append(tempi - lasth) \n",
    "        temppe.append(tempi - tloc[0])\n",
    "    elif tempi <= hloc[0] and token.i >= lastt:\n",
    "        temppe.append(tempi - hloc[0])\n",
    "        temppe.append(tempi - lastt)\n",
    "    elif  tempi >= lasth and token.i >= lastt:\n",
    "        temppe.append(tempi - lasth) \n",
    "        temppe.append(tempi - lastt)\n",
    "    docpe.append(temppe)\n",
    "print(docpe)"
   ]
  },
  {
   "cell_type": "code",
   "execution_count": 1,
   "metadata": {},
   "outputs": [],
   "source": [
    "import pandas as pd\n",
    "import spacy\n",
    "import numpy as np\n",
    "nlp = spacy.load(\"en_core_web_sm\")\n",
    "def getdocpe(i):\n",
    "    doc = nlp(df.loc[i].text)\n",
    "    temp = []\n",
    "    temph = df.loc[i].h\n",
    "    tempt = df.loc[i].t\n",
    "    doch = nlp(temph)\n",
    "    doct = nlp(tempt)\n",
    "    tempht = []\n",
    "    temptt = []\n",
    "    hloc = []\n",
    "    tloc =[]\n",
    "    docpe =[]\n",
    "    for token in doch:\n",
    "        tempht.append(token.text)\n",
    "    for token in doct:\n",
    "        temptt.append(token.text)\n",
    "    for token in doc:\n",
    "        if token.text in tempht: hloc.append(token.i)\n",
    "        if token.text in temptt: tloc.append(token.i)\n",
    "    for token in doc:\n",
    "        temppe = []\n",
    "        tempi = token.i\n",
    "        lastt = tloc[len(tloc) - 1]\n",
    "        lasth = hloc[len(hloc) - 1]\n",
    "        if token.i in hloc:\n",
    "            temppe.append(0)\n",
    "            temppe.append(tempi - tloc[0])\n",
    "        elif token.i in tloc:\n",
    "            temppe.append(tempi - lasth)\n",
    "            temppe.append(0)\n",
    "        elif tempi <= hloc[0] and token.i <= tloc[0]:\n",
    "            temppe.append(tempi - hloc[0])\n",
    "            temppe.append(tempi - tloc[0])\n",
    "        elif tempi >= lasth and token.i <= tloc[0]:\n",
    "            temppe.append(tempi - lasth) \n",
    "            temppe.append(tempi - tloc[0])\n",
    "        elif tempi <= hloc[0] and token.i >= lastt:\n",
    "            temppe.append(tempi - hloc[0])\n",
    "            temppe.append(tempi - lastt)\n",
    "        elif  tempi >= lasth and token.i >= lastt:\n",
    "            temppe.append(tempi - lasth) \n",
    "            temppe.append(tempi - lastt)\n",
    "        docpe.append(temppe)\n",
    "    return docpe\n",
    "# no index\n",
    "def getdocpe():\n",
    "    doc = nlp(df.text.id)\n",
    "    temp = []\n",
    "    temph = df.h[1]\n",
    "    tempt = df.t[1]\n",
    "    doch = nlp(temph)\n",
    "    doct = nlp(tempt)\n",
    "    tempht = []\n",
    "    temptt = []\n",
    "    hloc = []\n",
    "    tloc =[]\n",
    "    docpe =[]\n",
    "    for token in doch:\n",
    "        tempht.append(token.text)\n",
    "    for token in doct:\n",
    "        temptt.append(token.text)\n",
    "    for token in doc:\n",
    "        if token.text in tempht: hloc.append(token.i)\n",
    "        if token.text in temptt: tloc.append(token.i)\n",
    "    for token in doc:\n",
    "        temppe = []\n",
    "        tempi = token.i\n",
    "        # print(len(tloc))\n",
    "        lastt = tloc[len(tloc) - 1]\n",
    "        lasth = hloc[len(hloc) - 1]\n",
    "        if token.i in hloc:\n",
    "            temppe.append(0)\n",
    "            temppe.append(tempi - tloc[0])\n",
    "        elif token.i in tloc:\n",
    "            temppe.append(tempi - lasth)\n",
    "            temppe.append(0)\n",
    "        elif tempi <= hloc[0] and token.i <= tloc[0]:\n",
    "            temppe.append(tempi - hloc[0])\n",
    "            temppe.append(tempi - tloc[0])\n",
    "        elif tempi >= lasth and token.i <= tloc[0]:\n",
    "            temppe.append(tempi - lasth) \n",
    "            temppe.append(tempi - tloc[0])\n",
    "        elif tempi <= hloc[0] and token.i >= lastt:\n",
    "            temppe.append(tempi - hloc[0])\n",
    "            temppe.append(tempi - lastt)\n",
    "        elif  tempi >= lasth and token.i >= lastt:\n",
    "            temppe.append(tempi - lasth) \n",
    "            temppe.append(tempi - lastt)\n",
    "        docpe.append(temppe)\n",
    "    return docpe"
   ]
  },
  {
   "cell_type": "code",
   "execution_count": 5,
   "metadata": {
    "tags": []
   },
   "outputs": [],
   "source": [
    "import spacy\n",
    "import numpy as np\n",
    "i = 1\n",
    "nlp = spacy.load(\"en_core_web_sm\")\n",
    "pe = []\n",
    "while i <= len(df):\n",
    "    if i % 3 != 1: \n",
    "        pe.append(np.nan)\n",
    "    else:\n",
    "        pe.append(getdocpe(i))\n",
    "    i += 1\n",
    "# print(pe)"
   ]
  },
  {
   "cell_type": "code",
   "execution_count": 6,
   "metadata": {},
   "outputs": [],
   "source": [
    "df[\"pe\"] = pe\n",
    "df.to_csv (\"nyt10_train_NA_pe.csv\")"
   ]
  },
  {
   "cell_type": "code",
   "execution_count": 4,
   "metadata": {
    "tags": [
     "outputPrepend"
    ]
   },
   "outputs": [
    {
     "output_type": "stream",
     "name": "stdout",
     "text": "-6], [-3, -5], [-2, -4], [-1, -3], [0, -2], [1, -1], [2, 0], [3, 1], [4, 2], [5, 3], [6, 4], [7, 5], [8, 6], [9, 7], [10, 8]]]}\n{\"text\": \"35th Avenue , at 36th Street , Astoria , Queens , (718) 784-0077 ; $ 10 .\", \"relation\": \"/location/neighborhood/neighborhood_of\", \"h\": {\"id\": \"/guid/9202a8c04000641f80000000001b2f9f\", \"name\": \"Astoria\", \"pos\": [31, 38]}, \"t\": {\"id\": \"/guid/9202a8c04000641f800000000005af5c\", \"name\": \"Queens\", \"pos\": [41, 47]}, \"pe\": [[[-7, -9], [-6, -8], [-5, -7], [-4, -6], [-3, -5], [-2, -4], [-1, -3], [0, -2], [1, -1], [2, 0], [3, 1], [4, 2], [5, 3], [6, 4], [7, 5], [8, 6], [9, 7], [10, 8], [11, 9], [12, 10], [13, 11]]]}\n{\"text\": \"35th Avenue at 36th Street , Astoria , Queens , (718) 784-0077 ; $ 10 .\", \"relation\": \"/location/neighborhood/neighborhood_of\", \"h\": {\"id\": \"/guid/9202a8c04000641f80000000001b2f9f\", \"name\": \"Astoria\", \"pos\": [29, 36]}, \"t\": {\"id\": \"/guid/9202a8c04000641f800000000005af5c\", \"name\": \"Queens\", \"pos\": [39, 45]}, \"pe\": [[[-6, -8], [-5, -7], [-4, -6], [-3, -5], [-2, -4], [-1, -3], [0, -2], [1, -1], [2, 0], [3, 1], [4, 2], [5, 3], [6, 4], [7, 5], [8, 6], [9, 7], [10, 8], [11, 9], [12, 10], [13, 11]]]}\n{\"text\": \"BROADWAY MERCHANTS ASSOCIATION FESTIVAL , Broadway , from Steinway to Crescent Streets , Astoria , Queens .\", \"relation\": \"/location/neighborhood/neighborhood_of\", \"h\": {\"id\": \"/guid/9202a8c04000641f80000000001b2f9f\", \"name\": \"Astoria\", \"pos\": [89, 96]}, \"t\": {\"id\": \"/guid/9202a8c04000641f800000000005af5c\", \"name\": \"Queens\", \"pos\": [99, 105]}, \"pe\": [[[-13, -15], [-12, -14], [-11, -13], [-10, -12], [-9, -11], [-8, -10], [-7, -9], [-6, -8], [-5, -7], [-4, -6], [-3, -5], [-2, -4], [-1, -3], [0, -2], [1, -1], [2, 0], [3, 1]]]}\n{\"text\": \"35th Avenue at 36th Street , Astoria , Queens , (718)784-0077 , $ 10 .\", \"relation\": \"/location/neighborhood/neighborhood_of\", \"h\": {\"id\": \"/guid/9202a8c04000641f80000000001b2f9f\", \"name\": \"Astoria\", \"pos\": [29, 36]}, \"t\": {\"id\": \"/guid/9202a8c04000641f800000000005af5c\", \"name\": \"Queens\", \"pos\": [39, 45]}, \"pe\": [[[-6, -8], [-5, -7], [-4, -6], [-3, -5], [-2, -4], [-1, -3], [0, -2], [1, -1], [2, 0], [3, 1], [4, 2], [5, 3], [6, 4], [7, 5], [8, 6], [9, 7], [10, 8], [11, 9]]]}\n{\"text\": \"35th Avenue at 36th Street , Astoria , Queens , (718) 784-0077 ; free with admission ; museum admission : $ 10 ; $ 7.50 for 65 + and students ; $ 5 for children , ages 5 to 18 ; free for members and children under 5 .\", \"relation\": \"/location/neighborhood/neighborhood_of\", \"h\": {\"id\": \"/guid/9202a8c04000641f80000000001b2f9f\", \"name\": \"Astoria\", \"pos\": [29, 36]}, \"t\": {\"id\": \"/guid/9202a8c04000641f800000000005af5c\", \"name\": \"Queens\", \"pos\": [39, 45]}, \"pe\": [[[-6, -8], [-5, -7], [-4, -6], [-3, -5], [-2, -4], [-1, -3], [0, -2], [1, -1], [2, 0], [3, 1], [4, 2], [5, 3], [6, 4], [7, 5], [8, 6], [9, 7], [10, 8], [11, 9], [12, 10], [13, 11], [14, 12], [15, 13], [16, 14], [17, 15], [18, 16], [19, 17], [20, 18], [21, 19], [22, 20], [23, 21], [24, 22], [25, 23], [26, 24], [27, 25], [28, 26], [29, 27], [30, 28], [31, 29], [32, 30], [33, 31], [34, 32], [35, 33], [36, 34], [37, 35], [38, 36], [39, 37], [40, 38], [41, 39], [42, 40], [43, 41], [44, 42], [45, 43], [46, 44]]]}\n{\"text\": \"To the Editor : I was a boy in the New York public schools during World War II -LRB- P.S. 6 in Astoria , Queens -RRB- , and every student in the class was required to knit a small square .\", \"relation\": \"/location/neighborhood/neighborhood_of\", \"h\": {\"id\": \"/guid/9202a8c04000641f80000000001b2f9f\", \"name\": \"Astoria\", \"pos\": [95, 102]}, \"t\": {\"id\": \"/guid/9202a8c04000641f800000000005af5c\", \"name\": \"Queens\", \"pos\": [105, 111]}, \"pe\": [[[-22, -24], [-21, -23], [-20, -22], [-19, -21], [-18, -20], [-17, -19], [-16, -18], [-15, -17], [-14, -16], [-13, -15], [-12, -14], [-11, -13], [-10, -12], [-9, -11], [-8, -10], [-7, -9], [-6, -8], [-5, -7], [-4, -6], [-3, -5], [-2, -4], [-1, -3], [0, -2], [1, -1], [2, 0], [3, 1], [4, 2], [5, 3], [6, 4], [7, 5], [8, 6], [9, 7], [10, 8], [11, 9], [12, 10], [13, 11], [14, 12], [15, 13], [16, 14], [17, 15], [18, 16]]]}\n{\"text\": \"36-01 35th Avenue , at 36th Street , Astoria , Queens , (718) 784-0077 ; $ 10 .\", \"relation\": \"/location/neighborhood/neighborhood_of\", \"h\": {\"id\": \"/guid/9202a8c04000641f80000000001b2f9f\", \"name\": \"Astoria\", \"pos\": [37, 44]}, \"t\": {\"id\": \"/guid/9202a8c04000641f800000000005af5c\", \"name\": \"Queens\", \"pos\": [47, 53]}, \"pe\": [[[-10, -12], [-9, -11], [-8, -10], [-7, -9], [-6, -8], [-5, -7], [-4, -6], [-3, -5], [-2, -4], [-1, -3], [0, -2], [1, -1], [2, 0], [3, 1], [4, 2], [5, 3], [6, 4], [7, 5], [8, 6], [9, 7], [10, 8], [11, 9], [12, 10], [13, 11]]]}\n{\"text\": \"HAUNTED WATERS WALKING TOUR , visiting the Hell Gate section of the East River and its Astoria environs , meeting in Queens tomorrow at 1 p.m. on the southwest corner of Ditmars Boulevard and 31st Street .\", \"relation\": \"/location/neighborhood/neighborhood_of\", \"h\": {\"id\": \"/guid/9202a8c04000641f80000000001b2f9f\", \"name\": \"Astoria\", \"pos\": [87, 94]}, \"t\": {\"id\": \"/guid/9202a8c04000641f800000000005af5c\", \"name\": \"Queens\", \"pos\": [117, 123]}, \"pe\": [[[-16, -21], [-15, -20], [-14, -19], [-13, -18], [-12, -17], [-11, -16], [-10, -15], [-9, -14], [-8, -13], [-7, -12], [-6, -11], [-5, -10], [-4, -9], [-3, -8], [-2, -7], [-1, -6], [0, -5], [1, -4], [2, -3], [3, -2], [4, -1], [5, 0], [6, 1], [7, 2], [8, 3], [9, 4], [10, 5], [11, 6], [12, 7], [13, 8], [14, 9], [15, 10], [16, 11], [17, 12], [18, 13], [19, 14], [20, 15]]]}\n{\"text\": \"35th Avenue at 36th Street , Astoria , Queens , (718) 784-0077 ; $ 10 .\", \"relation\": \"/location/neighborhood/neighborhood_of\", \"h\": {\"id\": \"/guid/9202a8c04000641f80000000001b2f9f\", \"name\": \"Astoria\", \"pos\": [29, 36]}, \"t\": {\"id\": \"/guid/9202a8c04000641f800000000005af5c\", \"name\": \"Queens\", \"pos\": [39, 45]}, \"pe\": [[[-6, -8], [-5, -7], [-4, -6], [-3, -5], [-2, -4], [-1, -3], [0, -2], [1, -1], [2, 0], [3, 1], [4, 2], [5, 3], [6, 4], [7, 5], [8, 6], [9, 7], [10, 8], [11, 9], [12, 10], [13, 11]]]}\n{\"text\": \"And for 15 years , a nameless souvlaki cart has operated at Broadway and 32nd Street in Astoria , Queens , almost around the clock , seven days a week .\", \"relation\": \"/location/neighborhood/neighborhood_of\", \"h\": {\"id\": \"/guid/9202a8c04000641f80000000001b2f9f\", \"name\": \"Astoria\", \"pos\": [88, 95]}, \"t\": {\"id\": \"/guid/9202a8c04000641f800000000005af5c\", \"name\": \"Queens\", \"pos\": [98, 104]}, \"pe\": [[[-17, -19], [-16, -18], [-15, -17], [-14, -16], [-13, -15], [-12, -14], [-11, -13], [-10, -12], [-9, -11], [-8, -10], [-7, -9], [-6, -8], [-5, -7], [-4, -6], [-3, -5], [-2, -4], [-1, -3], [0, -2], [1, -1], [2, 0], [3, 1], [4, 2], [5, 3], [6, 4], [7, 5], [8, 6], [9, 7], [10, 8], [11, 9], [12, 10], [13, 11]]]}\n{\"text\": \"35th Avenue , at 36th Street , Astoria , Queens , (718) -784 -0077 , $ 10 .\", \"relation\": \"/location/neighborhood/neighborhood_of\", \"h\": {\"id\": \"/guid/9202a8c04000641f80000000001b2f9f\", \"name\": \"Astoria\", \"pos\": [31, 38]}, \"t\": {\"id\": \"/guid/9202a8c04000641f800000000005af5c\", \"name\": \"Queens\", \"pos\": [41, 47]}, \"pe\": [[[-7, -9], [-6, -8], [-5, -7], [-4, -6], [-3, -5], [-2, -4], [-1, -3], [0, -2], [1, -1], [2, 0], [3, 1], [4, 2], [5, 3], [6, 4], [7, 5], [8, 6], [9, 7], [10, 8], [11, 9], [12, 10]]]}\n{\"text\": \"-LRB- Catsoulis -RRB- \\\\* ` A GUIDE TO RECOGNIZING YOUR SAINTS ' -LRB- R , 98 minutes -RRB- Rough , ragged and full of life , this autobiographical movie , written and directed by Dito Montiel , about his youth on the streets of Astoria , Queens , is a remarkable debut , stuffed almost to bursting with bold performances and operatic emotions .\", \"relation\": \"/location/neighborhood/neighborhood_of\", \"h\": {\"id\": \"/guid/9202a8c04000641f80000000001b2f9f\", \"name\": \"Astoria\", \"pos\": [228, 235]}, \"t\": {\"id\": \"/guid/9202a8c04000641f800000000005af5c\", \"name\": \"Queens\", \"pos\": [238, 244]}, \"pe\": [[[-45, -47], [-44, -46], [-43, -45], [-42, -44], [-41, -43], [-40, -42], [-39, -41], [-38, -40], [-37, -39], [-36, -38], [-35, -37], [-34, -36], [-33, -35], [-32, -34], [-31, -33], [-30, -32], [-29, -31], [-28, -30], [-27, -29], [-26, -28], [-25, -27], [-24, -26], [-23, -25], [-22, -24], [-21, -23], [-20, -22], [-19, -21], [-18, -20], [-17, -19], [-16, -18], [-15, -17], [-14, -16], [-13, -15], [-12, -14], [-11, -13], [-10, -12], [-9, -11], [-8, -10], [-7, -9], [-6, -8], [-5, -7], [-4, -6], [-3, -5], [-2, -4], [-1, -3], [0, -2], [1, -1], [2, 0], [3, 1], [4, 2], [5, 3], [6, 4], [7, 5], [8, 6], [9, 7], [10, 8], [11, 9], [12, 10], [13, 11], [14, 12], [15, 13], [16, 14], [17, 15], [18, 16], [19, 17]]]}\n{\"text\": \"Raven , 9 , who just finished fourth grade at P.S. 122 in Astoria , Queens , had a cellphone and was able to call her father on his cellphone .\", \"relation\": \"/location/neighborhood/neighborhood_of\", \"h\": {\"id\": \"/guid/9202a8c04000641f80000000001b2f9f\", \"name\": \"Astoria\", \"pos\": [58, 65]}, \"t\": {\"id\": \"/guid/9202a8c04000641f800000000005af5c\", \"name\": \"Queens\", \"pos\": [68, 74]}, \"pe\": [[[-13, -15], [-12, -14], [-11, -13], [-10, -12], [-9, -11], [-8, -10], [-7, -9], [-6, -8], [-5, -7], [-4, -6], [-3, -5], [-2, -4], [-1, -3], [0, -2], [1, -1], [2, 0], [3, 1], [4, 2], [5, 3], [6, 4], [7, 5], [8, 6], [9, 7], [10, 8], [11, 9], [12, 10], [13, 11], [14, 12], [15, 13], [16, 14], [17, 15]]]}\n{\"text\": \"35th Avenue at 36th Street , Astoria , Queens , (718) 784-0077 ; $ 10 .\", \"relation\": \"/location/neighborhood/neighborhood_of\", \"h\": {\"id\": \"/guid/9202a8c04000641f80000000001b2f9f\", \"name\": \"Astoria\", \"pos\": [29, 36]}, \"t\": {\"id\": \"/guid/9202a8c04000641f800000000005af5c\", \"name\": \"Queens\", \"pos\": [39, 45]}, \"pe\": [[[-6, -8], [-5, -7], [-4, -6], [-3, -5], [-2, -4], [-1, -3], [0, -2], [1, -1], [2, 0], [3, 1], [4, 2], [5, 3], [6, 4], [7, 5], [8, 6], [9, 7], [10, 8], [11, 9], [12, 10], [13, 11]]]}\n{\"text\": \"Christie Van Kehrberg , of Astoria , Queens , works at a financial company in Manhattan .\", \"relation\": \"/location/neighborhood/neighborhood_of\", \"h\": {\"id\": \"/guid/9202a8c04000641f80000000001b2f9f\", \"name\": \"Astoria\", \"pos\": [27, 34]}, \"t\": {\"id\": \"/guid/9202a8c04000641f800000000005af5c\", \"name\": \"Queens\", \"pos\": [37, 43]}, \"pe\": [[[-5, -7], [-4, -6], [-3, -5], [-2, -4], [-1, -3], [0, -2], [1, -1], [2, 0], [3, 1], [4, 2], [5, 3], [6, 4], [7, 5], [8, 6], [9, 7], [10, 8], [11, 9]]]}\n{\"text\": \"35th Avenue at 36th Street , Astoria , Queens , (718) 784-0077 ; $ 10 .\", \"relation\": \"/location/neighborhood/neighborhood_of\", \"h\": {\"id\": \"/guid/9202a8c04000641f80000000001b2f9f\", \"name\": \"Astoria\", \"pos\": [29, 36]}, \"t\": {\"id\": \"/guid/9202a8c04000641f800000000005af5c\", \"name\": \"Queens\", \"pos\": [39, 45]}, \"pe\": [[[-6, -8], [-5, -7], [-4, -6], [-3, -5], [-2, -4], [-1, -3], [0, -2], [1, -1], [2, 0], [3, 1], [4, 2], [5, 3], [6, 4], [7, 5], [8, 6], [9, 7], [10, 8], [11, 9], [12, 10], [13, 11]]]}\n{\"text\": \"Jack McNamara , vice president for marketing at Mystic Tank Lines , a fuel transporter in Astoria , Queens , which owns the truck Mr. Bush was driving , said yesterday that Mr. Bush had been a driver for the company for 17 years and had a good safety record .\", \"relation\": \"/location/neighborhood/neighborhood_of\", \"h\": {\"id\": \"/guid/9202a8c04000641f80000000001b2f9f\", \"name\": \"Astoria\", \"pos\": [90, 97]}, \"t\": {\"id\": \"/guid/9202a8c04000641f800000000005af5c\", \"name\": \"Queens\", \"pos\": [100, 106]}, \"pe\": [[[-16, -18], [-15, -17], [-14, -16], [-13, -15], [-12, -14], [-11, -13], [-10, -12], [-9, -11], [-8, -10], [-7, -9], [-6, -8], [-5, -7], [-4, -6], [-3, -5], [-2, -4], [-1, -3], [0, -2], [1, -1], [2, 0], [3, 1], [4, 2], [5, 3], [6, 4], [7, 5], [8, 6], [9, 7], [10, 8], [11, 9], [12, 10], [13, 11], [14, 12], [15, 13], [16, 14], [17, 15], [18, 16], [19, 17], [20, 18], [21, 19], [22, 20], [23, 21], [24, 22], [25, 23], [26, 24], [27, 25], [28, 26], [29, 27], [30, 28], [31, 29], [32, 30], [33, 31], [34, 32]]]}\n{\"text\": \"He was from Astoria , Queens , not Brooklyn .\", \"relation\": \"/location/neighborhood/neighborhood_of\", \"h\": {\"id\": \"/guid/9202a8c04000641f80000000001b2f9f\", \"name\": \"Astoria\", \"pos\": [12, 19]}, \"t\": {\"id\": \"/guid/9202a8c04000641f800000000005af5c\", \"name\": \"Queens\", \"pos\": [22, 28]}, \"pe\": [[[-3, -5], [-2, -4], [-1, -3], [0, -2], [1, -1], [2, 0], [3, 1], [4, 2], [5, 3], [6, 4]]]}\n{\"text\": \"ON a recent night , a 24-year-old paralegal sat in her apartment in Astoria , Queens , eagerly awaiting a rabbi .\", \"relation\": \"/location/neighborhood/neighborhood_of\", \"h\": {\"id\": \"/guid/9202a8c04000641f80000000001b2f9f\", \"name\": \"Astoria\", \"pos\": [68, 75]}, \"t\": {\"id\": \"/guid/9202a8c04000641f800000000005af5c\", \"name\": \"Queens\", \"pos\": [78, 84]}, \"pe\": [[[-15, -17], [-14, -16], [-13, -15], [-12, -14], [-11, -13], [-10, -12], [-9, -11], [-8, -10], [-7, -9], [-6, -8], [-5, -7], [-4, -6], [-3, -5], [-2, -4], [-1, -3], [0, -2], [1, -1], [2, 0], [3, 1], [4, 2], [5, 3], [6, 4], [7, 5], [8, 6]]]}\n{\"text\": \"At El Khaiam cafe on Steinway Street in the middle of what is known as Little Egypt in Astoria , Queens , Arab immigrants sit around imitation marble tables and chat animatedly as they play backgammon or cards .\", \"relation\": \"/location/neighborhood/neighborhood_of\", \"h\": {\"id\": \"/guid/9202a8c04000641f80000000001b2f9f\", \"name\": \"Astoria\", \"pos\": [87, 94]}, \"t\": {\"id\": \"/guid/9202a8c04000641f800000000005af5c\", \"name\": \"Queens\", \"pos\": [97, 103]}, \"pe\": [[[-18, -20], [-17, -19], [-16, -18], [-15, -17], [-14, -16], [-13, -15], [-12, -14], [-11, -13], [-10, -12], [-9, -11], [-8, -10], [-7, -9], [-6, -8], [-5, -7], [-4, -6], [-3, -5], [-2, -4], [-1, -3], [0, -2], [1, -1], [2, 0], [3, 1], [4, 2], [5, 3], [6, 4], [7, 5], [8, 6], [9, 7], [10, 8], [11, 9], [12, 10], [13, 11], [14, 12], [15, 13], [16, 14], [17, 15], [18, 16], [19, 17], [20, 18]]]}\n{\"text\": \"MUSEUM OF THE MOVING IMAGE , 36-01 35th Avenue , at 36th Street , Astoria , Queens .\", \"relation\": \"/location/neighborhood/neighborhood_of\", \"h\": {\"id\": \"/guid/9202a8c04000641f80000000001b2f9f\", \"name\": \"Astoria\", \"pos\": [66, 73]}, \"t\": {\"id\": \"/guid/9202a8c04000641f800000000005af5c\", \"name\": \"Queens\", \"pos\": [76, 82]}, \"pe\": [[[-16, -18], [-15, -17], [-14, -16], [-13, -15], [-12, -14], [-11, -13], [-10, -12], [-9, -11], [-8, -10], [-7, -9], [-6, -8], [-5, -7], [-4, -6], [-3, -5], [-2, -4], [-1, -3], [0, -2], [1, -1], [2, 0], [3, 1]]]}\n{\"text\": \"You have to concentrate , '' said Evelyn Gatzonis , who owns a spa in Astoria , Queens , and walked to work in leather boots with 4 1\\\\/2 - inch stiletto heels .\", \"relation\": \"/location/neighborhood/neighborhood_of\", \"h\": {\"id\": \"/guid/9202a8c04000641f80000000001b2f9f\", \"name\": \"Astoria\", \"pos\": [70, 77]}, \"t\": {\"id\": \"/guid/9202a8c04000641f800000000005af5c\", \"name\": \"Queens\", \"pos\": [80, 86]}, \"pe\": [[[-15, -17], [-14, -16], [-13, -15], [-12, -14], [-11, -13], [-10, -12], [-9, -11], [-8, -10], [-7, -9], [-6, -8], [-5, -7], [-4, -6], [-3, -5], [-2, -4], [-1, -3], [0, -2], [1, -1], [2, 0], [3, 1], [4, 2], [5, 3], [6, 4], [7, 5], [8, 6], [9, 7], [10, 8], [11, 9], [12, 10], [13, 11], [14, 12], [15, 13], [16, 14], [17, 15], [18, 16]]]}\n{\"text\": \"35th Avenue at 36th Street , Astoria , Queens ; (718)784-0077 ; $ 10 .\", \"relation\": \"/location/neighborhood/neighborhood_of\", \"h\": {\"id\": \"/guid/9202a8c04000641f80000000001b2f9f\", \"name\": \"Astoria\", \"pos\": [29, 36]}, \"t\": {\"id\": \"/guid/9202a8c04000641f800000000005af5c\", \"name\": \"Queens\", \"pos\": [39, 45]}, \"pe\": [[[-6, -8], [-5, -7], [-4, -6], [-3, -5], [-2, -4], [-1, -3], [0, -2], [1, -1], [2, 0], [3, 1], [4, 2], [5, 3], [6, 4], [7, 5], [8, 6], [9, 7], [10, 8], [11, 9]]]}\n{\"text\": \"But several customers using a bill payment kiosk in a Cingular Wireless store in Astoria , Queens , last month raved about the ease and convenience of the terminal , even though they had to pay a $ 2 fee and round their total up to the nearest dollar , because the terminal did not accept coins .\", \"relation\": \"/location/neighborhood/neighborhood_of\", \"h\": {\"id\": \"/guid/9202a8c04000641f80000000001b2f9f\", \"name\": \"Astoria\", \"pos\": [81, 88]}, \"t\": {\"id\": \"/guid/9202a8c04000641f800000000005af5c\", \"name\": \"Queens\", \"pos\": [91, 97]}, \"pe\": [[[-14, -16], [-13, -15], [-12, -14], [-11, -13], [-10, -12], [-9, -11], [-8, -10], [-7, -9], [-6, -8], [-5, -7], [-4, -6], [-3, -5], [-2, -4], [-1, -3], [0, -2], [1, -1], [2, 0], [3, 1], [4, 2], [5, 3], [6, 4], [7, 5], [8, 6], [9, 7], [10, 8], [11, 9], [12, 10], [13, 11], [14, 12], [15, 13], [16, 14], [17, 15], [18, 16], [19, 17], [20, 18], [21, 19], [22, 20], [23, 21], [24, 22], [25, 23], [26, 24], [27, 25], [28, 26], [29, 27], [30, 28], [31, 29], [32, 30], [33, 31], [34, 32], [35, 33], [36, 34], [37, 35], [38, 36], [39, 37], [40, 38], [41, 39], [42, 40], [43, 41]]]}\n{\"text\": \"35th Avenue at 36th Street , Astoria , Queens , (718) 784-0077 ; $ 10 .\", \"relation\": \"/location/neighborhood/neighborhood_of\", \"h\": {\"id\": \"/guid/9202a8c04000641f80000000001b2f9f\", \"name\": \"Astoria\", \"pos\": [29, 36]}, \"t\": {\"id\": \"/guid/9202a8c04000641f800000000005af5c\", \"name\": \"Queens\", \"pos\": [39, 45]}, \"pe\": [[[-6, -8], [-5, -7], [-4, -6], [-3, -5], [-2, -4], [-1, -3], [0, -2], [1, -1], [2, 0], [3, 1], [4, 2], [5, 3], [6, 4], [7, 5], [8, 6], [9, 7], [10, 8], [11, 9], [12, 10], [13, 11]]]}\n{\"text\": \"She was living in Astoria , Queens , renting a one-bedroom apartment for around $ 800 .\", \"relation\": \"/location/neighborhood/neighborhood_of\", \"h\": {\"id\": \"/guid/9202a8c04000641f80000000001b2f9f\", \"name\": \"Astoria\", \"pos\": [18, 25]}, \"t\": {\"id\": \"/guid/9202a8c04000641f800000000005af5c\", \"name\": \"Queens\", \"pos\": [28, 34]}, \"pe\": [[[-4, -6], [-3, -5], [-2, -4], [-1, -3], [0, -2], [1, -1], [2, 0], [3, 1], [4, 2], [5, 3], [6, 4], [7, 5], [8, 6], [9, 7], [10, 8], [11, 9], [12, 10], [13, 11], [14, 12]]]}\n{\"text\": \"Her father , Nikolaos Hiotakis of Astoria , Queens , is a tailor and fitter at the Hugo Boss men 's and women 's clothing store on Fifth Avenue in Manhattan .\", \"relation\": \"/location/neighborhood/neighborhood_of\", \"h\": {\"id\": \"/guid/9202a8c04000641f80000000001b2f9f\", \"name\": \"Astoria\", \"pos\": [34, 41]}, \"t\": {\"id\": \"/guid/9202a8c04000641f800000000005af5c\", \"name\": \"Queens\", \"pos\": [44, 50]}, \"pe\": [[[-6, -8], [-5, -7], [-4, -6], [-3, -5], [-2, -4], [-1, -3], [0, -2], [1, -1], [2, 0], [3, 1], [4, 2], [5, 3], [6, 4], [7, 5], [8, 6], [9, 7], [10, 8], [11, 9], [12, 10], [13, 11], [14, 12], [15, 13], [16, 14], [17, 15], [18, 16], [19, 17], [20, 18], [21, 19], [22, 20], [23, 21], [24, 22], [25, 23]]]}\n{\"text\": \"35th Avenue , at 36th Street , Astoria , Queens , (718)784-0077 ; $ 10 .\", \"relation\": \"/location/neighborhood/neighborhood_of\", \"h\": {\"id\": \"/guid/9202a8c04000641f80000000001b2f9f\", \"name\": \"Astoria\", \"pos\": [31, 38]}, \"t\": {\"id\": \"/guid/9202a8c04000641f800000000005af5c\", \"name\": \"Queens\", \"pos\": [41, 47]}, \"pe\": [[[-7, -9], [-6, -8], [-5, -7], [-4, -6], [-3, -5], [-2, -4], [-1, -3], [0, -2], [1, -1], [2, 0], [3, 1], [4, 2], [5, 3], [6, 4], [7, 5], [8, 6], [9, 7], [10, 8], [11, 9]]]}\n{\"text\": \"Then he canvassed bus-station loiterers and the runaways populating 14th Street Park in Astoria , Queens , talking up anyone who '' looked weird or sounded loud '' or was still on the street after 2 a.m. He brandished a video camera and prefaced hundreds of impromptu auditions with the disclaimer , '' I know I sound like a weirdo , but . ''\", \"relation\": \"/location/neighborhood/neighborhood_of\", \"h\": {\"id\": \"/guid/9202a8c04000641f80000000001b2f9f\", \"name\": \"Astoria\", \"pos\": [88, 95]}, \"t\": {\"id\": \"/guid/9202a8c04000641f800000000005af5c\", \"name\": \"Queens\", \"pos\": [98, 104]}, \"pe\": [[[-15, -17], [-14, -16], [-13, -15], [-12, -14], [-11, -13], [-10, -12], [-9, -11], [-8, -10], [-7, -9], [-6, -8], [-5, -7], [-4, -6], [-3, -5], [-2, -4], [-1, -3], [0, -2], [1, -1], [2, 0], [3, 1], [4, 2], [5, 3], [6, 4], [7, 5], [8, 6], [9, 7], [10, 8], [11, 9], [12, 10], [13, 11], [14, 12], [15, 13], [16, 14], [17, 15], [18, 16], [19, 17], [20, 18], [21, 19], [22, 20], [23, 21], [24, 22], [25, 23], [26, 24], [27, 25], [28, 26], [29, 27], [30, 28], [31, 29], [32, 30], [33, 31], [34, 32], [35, 33], [36, 34], [37, 35], [38, 36], [39, 37], [40, 38], [41, 39], [42, 40], [43, 41], [44, 42], [45, 43], [46, 44], [47, 45], [48, 46], [49, 47], [50, 48]]]}\n"
    },
    {
     "output_type": "error",
     "ename": "KeyboardInterrupt",
     "evalue": "",
     "traceback": [
      "\u001b[1;31m---------------------------------------------------------------------------\u001b[0m",
      "\u001b[1;31mKeyboardInterrupt\u001b[0m                         Traceback (most recent call last)",
      "\u001b[1;32m<ipython-input-4-867c712def6a>\u001b[0m in \u001b[0;36m<module>\u001b[1;34m\u001b[0m\n\u001b[0;32m     10\u001b[0m         \u001b[0mdata\u001b[0m \u001b[1;33m=\u001b[0m \u001b[0meval\u001b[0m\u001b[1;33m(\u001b[0m\u001b[0mline\u001b[0m\u001b[1;33m)\u001b[0m\u001b[1;33m\u001b[0m\u001b[1;33m\u001b[0m\u001b[0m\n\u001b[0;32m     11\u001b[0m         \u001b[0mdf\u001b[0m \u001b[1;33m=\u001b[0m \u001b[0mpd\u001b[0m\u001b[1;33m.\u001b[0m\u001b[0mDataFrame\u001b[0m\u001b[1;33m.\u001b[0m\u001b[0mfrom_dict\u001b[0m\u001b[1;33m(\u001b[0m\u001b[0mdata\u001b[0m\u001b[1;33m)\u001b[0m\u001b[1;33m\u001b[0m\u001b[1;33m\u001b[0m\u001b[0m\n\u001b[1;32m---> 12\u001b[1;33m         \u001b[0mtemppe\u001b[0m \u001b[1;33m=\u001b[0m \u001b[0mgetdocpe\u001b[0m\u001b[1;33m(\u001b[0m\u001b[1;33m)\u001b[0m\u001b[1;33m\u001b[0m\u001b[1;33m\u001b[0m\u001b[0m\n\u001b[0m\u001b[0;32m     13\u001b[0m         \u001b[1;32mif\u001b[0m \u001b[1;33m[\u001b[0m\u001b[1;33m]\u001b[0m \u001b[1;32mnot\u001b[0m \u001b[1;32min\u001b[0m \u001b[0mtemppe\u001b[0m\u001b[1;33m:\u001b[0m\u001b[1;33m\u001b[0m\u001b[1;33m\u001b[0m\u001b[0m\n\u001b[0;32m     14\u001b[0m             \u001b[0mpe\u001b[0m\u001b[1;33m.\u001b[0m\u001b[0mappend\u001b[0m\u001b[1;33m(\u001b[0m\u001b[0mtemppe\u001b[0m\u001b[1;33m)\u001b[0m\u001b[1;33m\u001b[0m\u001b[1;33m\u001b[0m\u001b[0m\n",
      "\u001b[1;32m<ipython-input-1-02a87244d32d>\u001b[0m in \u001b[0;36mgetdocpe\u001b[1;34m()\u001b[0m\n\u001b[0;32m     53\u001b[0m     \u001b[0mtemph\u001b[0m \u001b[1;33m=\u001b[0m \u001b[0mdf\u001b[0m\u001b[1;33m.\u001b[0m\u001b[0mh\u001b[0m\u001b[1;33m[\u001b[0m\u001b[1;36m1\u001b[0m\u001b[1;33m]\u001b[0m\u001b[1;33m\u001b[0m\u001b[1;33m\u001b[0m\u001b[0m\n\u001b[0;32m     54\u001b[0m     \u001b[0mtempt\u001b[0m \u001b[1;33m=\u001b[0m \u001b[0mdf\u001b[0m\u001b[1;33m.\u001b[0m\u001b[0mt\u001b[0m\u001b[1;33m[\u001b[0m\u001b[1;36m1\u001b[0m\u001b[1;33m]\u001b[0m\u001b[1;33m\u001b[0m\u001b[1;33m\u001b[0m\u001b[0m\n\u001b[1;32m---> 55\u001b[1;33m     \u001b[0mdoch\u001b[0m \u001b[1;33m=\u001b[0m \u001b[0mnlp\u001b[0m\u001b[1;33m(\u001b[0m\u001b[0mtemph\u001b[0m\u001b[1;33m)\u001b[0m\u001b[1;33m\u001b[0m\u001b[1;33m\u001b[0m\u001b[0m\n\u001b[0m\u001b[0;32m     56\u001b[0m     \u001b[0mdoct\u001b[0m \u001b[1;33m=\u001b[0m \u001b[0mnlp\u001b[0m\u001b[1;33m(\u001b[0m\u001b[0mtempt\u001b[0m\u001b[1;33m)\u001b[0m\u001b[1;33m\u001b[0m\u001b[1;33m\u001b[0m\u001b[0m\n\u001b[0;32m     57\u001b[0m     \u001b[0mtempht\u001b[0m \u001b[1;33m=\u001b[0m \u001b[1;33m[\u001b[0m\u001b[1;33m]\u001b[0m\u001b[1;33m\u001b[0m\u001b[1;33m\u001b[0m\u001b[0m\n",
      "\u001b[1;32mC:\\ProgramData\\Anaconda3\\envs\\re\\lib\\site-packages\\spacy\\language.py\u001b[0m in \u001b[0;36m__call__\u001b[1;34m(self, text, disable, component_cfg)\u001b[0m\n\u001b[0;32m    444\u001b[0m             \u001b[1;32mif\u001b[0m \u001b[1;32mnot\u001b[0m \u001b[0mhasattr\u001b[0m\u001b[1;33m(\u001b[0m\u001b[0mproc\u001b[0m\u001b[1;33m,\u001b[0m \u001b[1;34m\"__call__\"\u001b[0m\u001b[1;33m)\u001b[0m\u001b[1;33m:\u001b[0m\u001b[1;33m\u001b[0m\u001b[1;33m\u001b[0m\u001b[0m\n\u001b[0;32m    445\u001b[0m                 \u001b[1;32mraise\u001b[0m \u001b[0mValueError\u001b[0m\u001b[1;33m(\u001b[0m\u001b[0mErrors\u001b[0m\u001b[1;33m.\u001b[0m\u001b[0mE003\u001b[0m\u001b[1;33m.\u001b[0m\u001b[0mformat\u001b[0m\u001b[1;33m(\u001b[0m\u001b[0mcomponent\u001b[0m\u001b[1;33m=\u001b[0m\u001b[0mtype\u001b[0m\u001b[1;33m(\u001b[0m\u001b[0mproc\u001b[0m\u001b[1;33m)\u001b[0m\u001b[1;33m,\u001b[0m \u001b[0mname\u001b[0m\u001b[1;33m=\u001b[0m\u001b[0mname\u001b[0m\u001b[1;33m)\u001b[0m\u001b[1;33m)\u001b[0m\u001b[1;33m\u001b[0m\u001b[1;33m\u001b[0m\u001b[0m\n\u001b[1;32m--> 446\u001b[1;33m             \u001b[0mdoc\u001b[0m \u001b[1;33m=\u001b[0m \u001b[0mproc\u001b[0m\u001b[1;33m(\u001b[0m\u001b[0mdoc\u001b[0m\u001b[1;33m,\u001b[0m \u001b[1;33m**\u001b[0m\u001b[0mcomponent_cfg\u001b[0m\u001b[1;33m.\u001b[0m\u001b[0mget\u001b[0m\u001b[1;33m(\u001b[0m\u001b[0mname\u001b[0m\u001b[1;33m,\u001b[0m \u001b[1;33m{\u001b[0m\u001b[1;33m}\u001b[0m\u001b[1;33m)\u001b[0m\u001b[1;33m)\u001b[0m\u001b[1;33m\u001b[0m\u001b[1;33m\u001b[0m\u001b[0m\n\u001b[0m\u001b[0;32m    447\u001b[0m             \u001b[1;32mif\u001b[0m \u001b[0mdoc\u001b[0m \u001b[1;32mis\u001b[0m \u001b[1;32mNone\u001b[0m\u001b[1;33m:\u001b[0m\u001b[1;33m\u001b[0m\u001b[1;33m\u001b[0m\u001b[0m\n\u001b[0;32m    448\u001b[0m                 \u001b[1;32mraise\u001b[0m \u001b[0mValueError\u001b[0m\u001b[1;33m(\u001b[0m\u001b[0mErrors\u001b[0m\u001b[1;33m.\u001b[0m\u001b[0mE005\u001b[0m\u001b[1;33m.\u001b[0m\u001b[0mformat\u001b[0m\u001b[1;33m(\u001b[0m\u001b[0mname\u001b[0m\u001b[1;33m=\u001b[0m\u001b[0mname\u001b[0m\u001b[1;33m)\u001b[0m\u001b[1;33m)\u001b[0m\u001b[1;33m\u001b[0m\u001b[1;33m\u001b[0m\u001b[0m\n",
      "\u001b[1;32mnn_parser.pyx\u001b[0m in \u001b[0;36mspacy.syntax.nn_parser.Parser.__call__\u001b[1;34m()\u001b[0m\n",
      "\u001b[1;32mnn_parser.pyx\u001b[0m in \u001b[0;36mspacy.syntax.nn_parser.Parser.predict\u001b[1;34m()\u001b[0m\n",
      "\u001b[1;32mnn_parser.pyx\u001b[0m in \u001b[0;36mspacy.syntax.nn_parser.Parser.greedy_parse\u001b[1;34m()\u001b[0m\n",
      "\u001b[1;32mC:\\ProgramData\\Anaconda3\\envs\\re\\lib\\site-packages\\thinc\\neural\\_classes\\model.py\u001b[0m in \u001b[0;36m__call__\u001b[1;34m(self, x)\u001b[0m\n\u001b[0;32m    165\u001b[0m             \u001b[0mMust\u001b[0m \u001b[0mmatch\u001b[0m \u001b[0mexpected\u001b[0m \u001b[0mshape\u001b[0m\u001b[1;33m\u001b[0m\u001b[1;33m\u001b[0m\u001b[0m\n\u001b[0;32m    166\u001b[0m         \"\"\"\n\u001b[1;32m--> 167\u001b[1;33m         \u001b[1;32mreturn\u001b[0m \u001b[0mself\u001b[0m\u001b[1;33m.\u001b[0m\u001b[0mpredict\u001b[0m\u001b[1;33m(\u001b[0m\u001b[0mx\u001b[0m\u001b[1;33m)\u001b[0m\u001b[1;33m\u001b[0m\u001b[1;33m\u001b[0m\u001b[0m\n\u001b[0m\u001b[0;32m    168\u001b[0m \u001b[1;33m\u001b[0m\u001b[0m\n\u001b[0;32m    169\u001b[0m     \u001b[1;32mdef\u001b[0m \u001b[0mpipe\u001b[0m\u001b[1;33m(\u001b[0m\u001b[0mself\u001b[0m\u001b[1;33m,\u001b[0m \u001b[0mstream\u001b[0m\u001b[1;33m,\u001b[0m \u001b[0mbatch_size\u001b[0m\u001b[1;33m=\u001b[0m\u001b[1;36m128\u001b[0m\u001b[1;33m)\u001b[0m\u001b[1;33m:\u001b[0m\u001b[1;33m\u001b[0m\u001b[1;33m\u001b[0m\u001b[0m\n",
      "\u001b[1;32mC:\\ProgramData\\Anaconda3\\envs\\re\\lib\\site-packages\\thinc\\neural\\_classes\\model.py\u001b[0m in \u001b[0;36mpredict\u001b[1;34m(self, X)\u001b[0m\n\u001b[0;32m    129\u001b[0m \u001b[1;33m\u001b[0m\u001b[0m\n\u001b[0;32m    130\u001b[0m     \u001b[1;32mdef\u001b[0m \u001b[0mpredict\u001b[0m\u001b[1;33m(\u001b[0m\u001b[0mself\u001b[0m\u001b[1;33m,\u001b[0m \u001b[0mX\u001b[0m\u001b[1;33m)\u001b[0m\u001b[1;33m:\u001b[0m\u001b[1;33m\u001b[0m\u001b[1;33m\u001b[0m\u001b[0m\n\u001b[1;32m--> 131\u001b[1;33m         \u001b[0my\u001b[0m\u001b[1;33m,\u001b[0m \u001b[0m_\u001b[0m \u001b[1;33m=\u001b[0m \u001b[0mself\u001b[0m\u001b[1;33m.\u001b[0m\u001b[0mbegin_update\u001b[0m\u001b[1;33m(\u001b[0m\u001b[0mX\u001b[0m\u001b[1;33m,\u001b[0m \u001b[0mdrop\u001b[0m\u001b[1;33m=\u001b[0m\u001b[1;32mNone\u001b[0m\u001b[1;33m)\u001b[0m\u001b[1;33m\u001b[0m\u001b[1;33m\u001b[0m\u001b[0m\n\u001b[0m\u001b[0;32m    132\u001b[0m         \u001b[1;32mreturn\u001b[0m \u001b[0my\u001b[0m\u001b[1;33m\u001b[0m\u001b[1;33m\u001b[0m\u001b[0m\n\u001b[0;32m    133\u001b[0m \u001b[1;33m\u001b[0m\u001b[0m\n",
      "\u001b[1;32m_parser_model.pyx\u001b[0m in \u001b[0;36mspacy.syntax._parser_model.ParserModel.begin_update\u001b[1;34m()\u001b[0m\n",
      "\u001b[1;32m_parser_model.pyx\u001b[0m in \u001b[0;36mspacy.syntax._parser_model.ParserStepModel.__init__\u001b[1;34m()\u001b[0m\n",
      "\u001b[1;32mC:\\ProgramData\\Anaconda3\\envs\\re\\lib\\site-packages\\thinc\\neural\\_classes\\feed_forward.py\u001b[0m in \u001b[0;36mbegin_update\u001b[1;34m(self, X, drop)\u001b[0m\n\u001b[0;32m     44\u001b[0m         \u001b[0mcallbacks\u001b[0m \u001b[1;33m=\u001b[0m \u001b[1;33m[\u001b[0m\u001b[1;33m]\u001b[0m\u001b[1;33m\u001b[0m\u001b[1;33m\u001b[0m\u001b[0m\n\u001b[0;32m     45\u001b[0m         \u001b[1;32mfor\u001b[0m \u001b[0mlayer\u001b[0m \u001b[1;32min\u001b[0m \u001b[0mself\u001b[0m\u001b[1;33m.\u001b[0m\u001b[0m_layers\u001b[0m\u001b[1;33m:\u001b[0m\u001b[1;33m\u001b[0m\u001b[1;33m\u001b[0m\u001b[0m\n\u001b[1;32m---> 46\u001b[1;33m             \u001b[0mX\u001b[0m\u001b[1;33m,\u001b[0m \u001b[0minc_layer_grad\u001b[0m \u001b[1;33m=\u001b[0m \u001b[0mlayer\u001b[0m\u001b[1;33m.\u001b[0m\u001b[0mbegin_update\u001b[0m\u001b[1;33m(\u001b[0m\u001b[0mX\u001b[0m\u001b[1;33m,\u001b[0m \u001b[0mdrop\u001b[0m\u001b[1;33m=\u001b[0m\u001b[0mdrop\u001b[0m\u001b[1;33m)\u001b[0m\u001b[1;33m\u001b[0m\u001b[1;33m\u001b[0m\u001b[0m\n\u001b[0m\u001b[0;32m     47\u001b[0m             \u001b[0mcallbacks\u001b[0m\u001b[1;33m.\u001b[0m\u001b[0mappend\u001b[0m\u001b[1;33m(\u001b[0m\u001b[0minc_layer_grad\u001b[0m\u001b[1;33m)\u001b[0m\u001b[1;33m\u001b[0m\u001b[1;33m\u001b[0m\u001b[0m\n\u001b[0;32m     48\u001b[0m \u001b[1;33m\u001b[0m\u001b[0m\n",
      "\u001b[1;32mC:\\ProgramData\\Anaconda3\\envs\\re\\lib\\site-packages\\thinc\\api.py\u001b[0m in \u001b[0;36mbegin_update\u001b[1;34m(seqs_in, drop)\u001b[0m\n\u001b[0;32m    293\u001b[0m     \u001b[1;32mdef\u001b[0m \u001b[0mbegin_update\u001b[0m\u001b[1;33m(\u001b[0m\u001b[0mseqs_in\u001b[0m\u001b[1;33m,\u001b[0m \u001b[0mdrop\u001b[0m\u001b[1;33m=\u001b[0m\u001b[1;36m0.0\u001b[0m\u001b[1;33m)\u001b[0m\u001b[1;33m:\u001b[0m\u001b[1;33m\u001b[0m\u001b[1;33m\u001b[0m\u001b[0m\n\u001b[0;32m    294\u001b[0m         \u001b[0mlengths\u001b[0m \u001b[1;33m=\u001b[0m \u001b[0mlayer\u001b[0m\u001b[1;33m.\u001b[0m\u001b[0mops\u001b[0m\u001b[1;33m.\u001b[0m\u001b[0masarray\u001b[0m\u001b[1;33m(\u001b[0m\u001b[1;33m[\u001b[0m\u001b[0mlen\u001b[0m\u001b[1;33m(\u001b[0m\u001b[0mseq\u001b[0m\u001b[1;33m)\u001b[0m \u001b[1;32mfor\u001b[0m \u001b[0mseq\u001b[0m \u001b[1;32min\u001b[0m \u001b[0mseqs_in\u001b[0m\u001b[1;33m]\u001b[0m\u001b[1;33m)\u001b[0m\u001b[1;33m\u001b[0m\u001b[1;33m\u001b[0m\u001b[0m\n\u001b[1;32m--> 295\u001b[1;33m         \u001b[0mX\u001b[0m\u001b[1;33m,\u001b[0m \u001b[0mbp_layer\u001b[0m \u001b[1;33m=\u001b[0m \u001b[0mlayer\u001b[0m\u001b[1;33m.\u001b[0m\u001b[0mbegin_update\u001b[0m\u001b[1;33m(\u001b[0m\u001b[0mlayer\u001b[0m\u001b[1;33m.\u001b[0m\u001b[0mops\u001b[0m\u001b[1;33m.\u001b[0m\u001b[0mflatten\u001b[0m\u001b[1;33m(\u001b[0m\u001b[0mseqs_in\u001b[0m\u001b[1;33m,\u001b[0m \u001b[0mpad\u001b[0m\u001b[1;33m=\u001b[0m\u001b[0mpad\u001b[0m\u001b[1;33m)\u001b[0m\u001b[1;33m,\u001b[0m \u001b[0mdrop\u001b[0m\u001b[1;33m=\u001b[0m\u001b[0mdrop\u001b[0m\u001b[1;33m)\u001b[0m\u001b[1;33m\u001b[0m\u001b[1;33m\u001b[0m\u001b[0m\n\u001b[0m\u001b[0;32m    296\u001b[0m         \u001b[1;32mif\u001b[0m \u001b[0mbp_layer\u001b[0m \u001b[1;32mis\u001b[0m \u001b[1;32mNone\u001b[0m\u001b[1;33m:\u001b[0m\u001b[1;33m\u001b[0m\u001b[1;33m\u001b[0m\u001b[0m\n\u001b[0;32m    297\u001b[0m             \u001b[1;32mreturn\u001b[0m \u001b[0mlayer\u001b[0m\u001b[1;33m.\u001b[0m\u001b[0mops\u001b[0m\u001b[1;33m.\u001b[0m\u001b[0munflatten\u001b[0m\u001b[1;33m(\u001b[0m\u001b[0mX\u001b[0m\u001b[1;33m,\u001b[0m \u001b[0mlengths\u001b[0m\u001b[1;33m,\u001b[0m \u001b[0mpad\u001b[0m\u001b[1;33m=\u001b[0m\u001b[0mpad\u001b[0m\u001b[1;33m)\u001b[0m\u001b[1;33m,\u001b[0m \u001b[1;32mNone\u001b[0m\u001b[1;33m\u001b[0m\u001b[1;33m\u001b[0m\u001b[0m\n",
      "\u001b[1;32mC:\\ProgramData\\Anaconda3\\envs\\re\\lib\\site-packages\\thinc\\neural\\_classes\\feed_forward.py\u001b[0m in \u001b[0;36mbegin_update\u001b[1;34m(self, X, drop)\u001b[0m\n\u001b[0;32m     44\u001b[0m         \u001b[0mcallbacks\u001b[0m \u001b[1;33m=\u001b[0m \u001b[1;33m[\u001b[0m\u001b[1;33m]\u001b[0m\u001b[1;33m\u001b[0m\u001b[1;33m\u001b[0m\u001b[0m\n\u001b[0;32m     45\u001b[0m         \u001b[1;32mfor\u001b[0m \u001b[0mlayer\u001b[0m \u001b[1;32min\u001b[0m \u001b[0mself\u001b[0m\u001b[1;33m.\u001b[0m\u001b[0m_layers\u001b[0m\u001b[1;33m:\u001b[0m\u001b[1;33m\u001b[0m\u001b[1;33m\u001b[0m\u001b[0m\n\u001b[1;32m---> 46\u001b[1;33m             \u001b[0mX\u001b[0m\u001b[1;33m,\u001b[0m \u001b[0minc_layer_grad\u001b[0m \u001b[1;33m=\u001b[0m \u001b[0mlayer\u001b[0m\u001b[1;33m.\u001b[0m\u001b[0mbegin_update\u001b[0m\u001b[1;33m(\u001b[0m\u001b[0mX\u001b[0m\u001b[1;33m,\u001b[0m \u001b[0mdrop\u001b[0m\u001b[1;33m=\u001b[0m\u001b[0mdrop\u001b[0m\u001b[1;33m)\u001b[0m\u001b[1;33m\u001b[0m\u001b[1;33m\u001b[0m\u001b[0m\n\u001b[0m\u001b[0;32m     47\u001b[0m             \u001b[0mcallbacks\u001b[0m\u001b[1;33m.\u001b[0m\u001b[0mappend\u001b[0m\u001b[1;33m(\u001b[0m\u001b[0minc_layer_grad\u001b[0m\u001b[1;33m)\u001b[0m\u001b[1;33m\u001b[0m\u001b[1;33m\u001b[0m\u001b[0m\n\u001b[0;32m     48\u001b[0m \u001b[1;33m\u001b[0m\u001b[0m\n",
      "\u001b[1;32mC:\\ProgramData\\Anaconda3\\envs\\re\\lib\\site-packages\\thinc\\neural\\_classes\\resnet.py\u001b[0m in \u001b[0;36mbegin_update\u001b[1;34m(self, X, drop)\u001b[0m\n\u001b[0;32m     27\u001b[0m \u001b[1;33m\u001b[0m\u001b[0m\n\u001b[0;32m     28\u001b[0m     \u001b[1;32mdef\u001b[0m \u001b[0mbegin_update\u001b[0m\u001b[1;33m(\u001b[0m\u001b[0mself\u001b[0m\u001b[1;33m,\u001b[0m \u001b[0mX\u001b[0m\u001b[1;33m,\u001b[0m \u001b[0mdrop\u001b[0m\u001b[1;33m=\u001b[0m\u001b[1;36m0.0\u001b[0m\u001b[1;33m)\u001b[0m\u001b[1;33m:\u001b[0m\u001b[1;33m\u001b[0m\u001b[1;33m\u001b[0m\u001b[0m\n\u001b[1;32m---> 29\u001b[1;33m         \u001b[0my\u001b[0m\u001b[1;33m,\u001b[0m \u001b[0mbp_y\u001b[0m \u001b[1;33m=\u001b[0m \u001b[0mself\u001b[0m\u001b[1;33m.\u001b[0m\u001b[0m_layers\u001b[0m\u001b[1;33m[\u001b[0m\u001b[1;36m0\u001b[0m\u001b[1;33m]\u001b[0m\u001b[1;33m.\u001b[0m\u001b[0mbegin_update\u001b[0m\u001b[1;33m(\u001b[0m\u001b[0mX\u001b[0m\u001b[1;33m,\u001b[0m \u001b[0mdrop\u001b[0m\u001b[1;33m=\u001b[0m\u001b[0mdrop\u001b[0m\u001b[1;33m)\u001b[0m\u001b[1;33m\u001b[0m\u001b[1;33m\u001b[0m\u001b[0m\n\u001b[0m\u001b[0;32m     30\u001b[0m         \u001b[1;32mif\u001b[0m \u001b[0misinstance\u001b[0m\u001b[1;33m(\u001b[0m\u001b[0mX\u001b[0m\u001b[1;33m,\u001b[0m \u001b[0mlist\u001b[0m\u001b[1;33m)\u001b[0m\u001b[1;33m:\u001b[0m\u001b[1;33m\u001b[0m\u001b[1;33m\u001b[0m\u001b[0m\n\u001b[0;32m     31\u001b[0m             \u001b[0moutput\u001b[0m \u001b[1;33m=\u001b[0m \u001b[1;33m[\u001b[0m\u001b[0mX\u001b[0m\u001b[1;33m[\u001b[0m\u001b[0mi\u001b[0m\u001b[1;33m]\u001b[0m \u001b[1;33m+\u001b[0m \u001b[0my\u001b[0m\u001b[1;33m[\u001b[0m\u001b[0mi\u001b[0m\u001b[1;33m]\u001b[0m \u001b[1;32mfor\u001b[0m \u001b[0mi\u001b[0m \u001b[1;32min\u001b[0m \u001b[0mrange\u001b[0m\u001b[1;33m(\u001b[0m\u001b[0mlen\u001b[0m\u001b[1;33m(\u001b[0m\u001b[0mX\u001b[0m\u001b[1;33m)\u001b[0m\u001b[1;33m)\u001b[0m\u001b[1;33m]\u001b[0m\u001b[1;33m\u001b[0m\u001b[1;33m\u001b[0m\u001b[0m\n",
      "\u001b[1;32mC:\\ProgramData\\Anaconda3\\envs\\re\\lib\\site-packages\\thinc\\neural\\_classes\\feed_forward.py\u001b[0m in \u001b[0;36mbegin_update\u001b[1;34m(self, X, drop)\u001b[0m\n\u001b[0;32m     44\u001b[0m         \u001b[0mcallbacks\u001b[0m \u001b[1;33m=\u001b[0m \u001b[1;33m[\u001b[0m\u001b[1;33m]\u001b[0m\u001b[1;33m\u001b[0m\u001b[1;33m\u001b[0m\u001b[0m\n\u001b[0;32m     45\u001b[0m         \u001b[1;32mfor\u001b[0m \u001b[0mlayer\u001b[0m \u001b[1;32min\u001b[0m \u001b[0mself\u001b[0m\u001b[1;33m.\u001b[0m\u001b[0m_layers\u001b[0m\u001b[1;33m:\u001b[0m\u001b[1;33m\u001b[0m\u001b[1;33m\u001b[0m\u001b[0m\n\u001b[1;32m---> 46\u001b[1;33m             \u001b[0mX\u001b[0m\u001b[1;33m,\u001b[0m \u001b[0minc_layer_grad\u001b[0m \u001b[1;33m=\u001b[0m \u001b[0mlayer\u001b[0m\u001b[1;33m.\u001b[0m\u001b[0mbegin_update\u001b[0m\u001b[1;33m(\u001b[0m\u001b[0mX\u001b[0m\u001b[1;33m,\u001b[0m \u001b[0mdrop\u001b[0m\u001b[1;33m=\u001b[0m\u001b[0mdrop\u001b[0m\u001b[1;33m)\u001b[0m\u001b[1;33m\u001b[0m\u001b[1;33m\u001b[0m\u001b[0m\n\u001b[0m\u001b[0;32m     47\u001b[0m             \u001b[0mcallbacks\u001b[0m\u001b[1;33m.\u001b[0m\u001b[0mappend\u001b[0m\u001b[1;33m(\u001b[0m\u001b[0minc_layer_grad\u001b[0m\u001b[1;33m)\u001b[0m\u001b[1;33m\u001b[0m\u001b[1;33m\u001b[0m\u001b[0m\n\u001b[0;32m     48\u001b[0m \u001b[1;33m\u001b[0m\u001b[0m\n",
      "\u001b[1;32mC:\\ProgramData\\Anaconda3\\envs\\re\\lib\\site-packages\\thinc\\neural\\_classes\\layernorm.py\u001b[0m in \u001b[0;36mbegin_update\u001b[1;34m(self, X, drop)\u001b[0m\n\u001b[0;32m     60\u001b[0m     \u001b[1;32mdef\u001b[0m \u001b[0mbegin_update\u001b[0m\u001b[1;33m(\u001b[0m\u001b[0mself\u001b[0m\u001b[1;33m,\u001b[0m \u001b[0mX\u001b[0m\u001b[1;33m,\u001b[0m \u001b[0mdrop\u001b[0m\u001b[1;33m=\u001b[0m\u001b[1;36m0.0\u001b[0m\u001b[1;33m)\u001b[0m\u001b[1;33m:\u001b[0m\u001b[1;33m\u001b[0m\u001b[1;33m\u001b[0m\u001b[0m\n\u001b[0;32m     61\u001b[0m         \u001b[1;32mif\u001b[0m \u001b[0mself\u001b[0m\u001b[1;33m.\u001b[0m\u001b[0mchild\u001b[0m \u001b[1;32mis\u001b[0m \u001b[1;32mnot\u001b[0m \u001b[1;32mNone\u001b[0m\u001b[1;33m:\u001b[0m\u001b[1;33m\u001b[0m\u001b[1;33m\u001b[0m\u001b[0m\n\u001b[1;32m---> 62\u001b[1;33m             \u001b[0mX\u001b[0m\u001b[1;33m,\u001b[0m \u001b[0mbackprop_child\u001b[0m \u001b[1;33m=\u001b[0m \u001b[0mself\u001b[0m\u001b[1;33m.\u001b[0m\u001b[0mchild\u001b[0m\u001b[1;33m.\u001b[0m\u001b[0mbegin_update\u001b[0m\u001b[1;33m(\u001b[0m\u001b[0mX\u001b[0m\u001b[1;33m,\u001b[0m \u001b[0mdrop\u001b[0m\u001b[1;33m=\u001b[0m\u001b[1;36m0.0\u001b[0m\u001b[1;33m)\u001b[0m\u001b[1;33m\u001b[0m\u001b[1;33m\u001b[0m\u001b[0m\n\u001b[0m\u001b[0;32m     63\u001b[0m         \u001b[1;32melse\u001b[0m\u001b[1;33m:\u001b[0m\u001b[1;33m\u001b[0m\u001b[1;33m\u001b[0m\u001b[0m\n\u001b[0;32m     64\u001b[0m             \u001b[0mbackprop_child\u001b[0m \u001b[1;33m=\u001b[0m \u001b[1;32mNone\u001b[0m\u001b[1;33m\u001b[0m\u001b[1;33m\u001b[0m\u001b[0m\n",
      "\u001b[1;32mC:\\ProgramData\\Anaconda3\\envs\\re\\lib\\site-packages\\thinc\\neural\\_classes\\maxout.py\u001b[0m in \u001b[0;36mbegin_update\u001b[1;34m(self, X__bi, drop)\u001b[0m\n\u001b[0;32m     74\u001b[0m         \u001b[1;32mif\u001b[0m \u001b[0mdrop\u001b[0m \u001b[1;32mis\u001b[0m \u001b[1;32mnot\u001b[0m \u001b[1;32mNone\u001b[0m\u001b[1;33m:\u001b[0m\u001b[1;33m\u001b[0m\u001b[1;33m\u001b[0m\u001b[0m\n\u001b[0;32m     75\u001b[0m             \u001b[0mdrop\u001b[0m \u001b[1;33m*=\u001b[0m \u001b[0mself\u001b[0m\u001b[1;33m.\u001b[0m\u001b[0mdrop_factor\u001b[0m\u001b[1;33m\u001b[0m\u001b[1;33m\u001b[0m\u001b[0m\n\u001b[1;32m---> 76\u001b[1;33m         \u001b[0moutput__boc\u001b[0m \u001b[1;33m=\u001b[0m \u001b[0mself\u001b[0m\u001b[1;33m.\u001b[0m\u001b[0mops\u001b[0m\u001b[1;33m.\u001b[0m\u001b[0mgemm\u001b[0m\u001b[1;33m(\u001b[0m\u001b[0mX__bi\u001b[0m\u001b[1;33m,\u001b[0m \u001b[0mW\u001b[0m\u001b[1;33m,\u001b[0m \u001b[0mtrans2\u001b[0m\u001b[1;33m=\u001b[0m\u001b[1;32mTrue\u001b[0m\u001b[1;33m)\u001b[0m\u001b[1;33m\u001b[0m\u001b[1;33m\u001b[0m\u001b[0m\n\u001b[0m\u001b[0;32m     77\u001b[0m         \u001b[0moutput__boc\u001b[0m \u001b[1;33m+=\u001b[0m \u001b[0mself\u001b[0m\u001b[1;33m.\u001b[0m\u001b[0mb\u001b[0m\u001b[1;33m.\u001b[0m\u001b[0mreshape\u001b[0m\u001b[1;33m(\u001b[0m\u001b[1;33m(\u001b[0m\u001b[0mself\u001b[0m\u001b[1;33m.\u001b[0m\u001b[0mnO\u001b[0m \u001b[1;33m*\u001b[0m \u001b[0mself\u001b[0m\u001b[1;33m.\u001b[0m\u001b[0mnP\u001b[0m\u001b[1;33m,\u001b[0m\u001b[1;33m)\u001b[0m\u001b[1;33m)\u001b[0m\u001b[1;33m\u001b[0m\u001b[1;33m\u001b[0m\u001b[0m\n\u001b[0;32m     78\u001b[0m         \u001b[0moutput__boc\u001b[0m \u001b[1;33m=\u001b[0m \u001b[0moutput__boc\u001b[0m\u001b[1;33m.\u001b[0m\u001b[0mreshape\u001b[0m\u001b[1;33m(\u001b[0m\u001b[1;33m(\u001b[0m\u001b[0moutput__boc\u001b[0m\u001b[1;33m.\u001b[0m\u001b[0mshape\u001b[0m\u001b[1;33m[\u001b[0m\u001b[1;36m0\u001b[0m\u001b[1;33m]\u001b[0m\u001b[1;33m,\u001b[0m \u001b[0mself\u001b[0m\u001b[1;33m.\u001b[0m\u001b[0mnO\u001b[0m\u001b[1;33m,\u001b[0m \u001b[0mself\u001b[0m\u001b[1;33m.\u001b[0m\u001b[0mnP\u001b[0m\u001b[1;33m)\u001b[0m\u001b[1;33m)\u001b[0m\u001b[1;33m\u001b[0m\u001b[1;33m\u001b[0m\u001b[0m\n",
      "\u001b[1;31mKeyboardInterrupt\u001b[0m: "
     ]
    }
   ],
   "source": [
    "# Updated 07/23\n",
    "import pandas as pd\n",
    "import spacy\n",
    "import json\n",
    "file2 = open(\"nyt10_train_no_na_pi.txt\", 'w', encoding = 'utf-8')\n",
    "import ast\n",
    "with open(\"nyt10_train_no_na.txt\", 'r', encoding = 'utf-8') as f:\n",
    "    for line in f.readlines():\n",
    "        pe = []\n",
    "        data = eval(line)\n",
    "        df = pd.DataFrame.from_dict(data)\n",
    "        temppe = getdocpe()\n",
    "        if [] not in temppe: \n",
    "            pe.append(temppe)\n",
    "            data[\"pe\"] = pe\n",
    "            file2.write(json.dumps(data) + \"\\n\")\n",
    "            print(json.dumps(data) + \"\\n\")"
   ]
  },
  {
   "cell_type": "code",
   "execution_count": 41,
   "metadata": {
    "tags": []
   },
   "outputs": [
    {
     "output_type": "stream",
     "name": "stdout",
     "text": "12\n13\n14\n15\n16\n17\n18\n19\n20\n[[-27, -10], [-26, -9], [-25, -8], [-24, -7], [-23, -6], [-22, -5], [-21, -4], [-20, -3], [-19, -2], [-18, -1], [-18, 0], [-17, 0], [], [], [], [], [], [], [], [], [], [-7, 0], [-5, 1], [-4, 2], [-3, 3], [-2, 4], [-1, 5], [0, 17], [0, 18], [1, 8]]\n"
    }
   ],
   "source": [
    "import spacy\n",
    "i = 1\n",
    "nlp = spacy.load(\"en_core_web_sm\")\n",
    "doc = nlp(df.text[1])\n",
    "temp = []\n",
    "temph = df.h[1]\n",
    "tempt = df.t[1]\n",
    "doch = nlp(temph)\n",
    "doct = nlp(tempt)\n",
    "tempht = []\n",
    "temptt = []\n",
    "hloc = []\n",
    "tloc =[]\n",
    "docpe =[]\n",
    "for token in doch:\n",
    "    tempht.append(token.text)\n",
    "for token in doct:\n",
    "    temptt.append(token.text)\n",
    "for token in doc:\n",
    "    if token.text in tempht: hloc.append(token.i)\n",
    "    if token.text in temptt: tloc.append(token.i)\n",
    "for token in doc:\n",
    "    temppe = []\n",
    "    tempi = token.i\n",
    "    # print(len(tloc))\n",
    "    lastt = tloc[len(tloc) - 1]\n",
    "    lasth = hloc[len(hloc) - 1]    \n",
    "    if token.i in hloc:\n",
    "        temppe.append(0)\n",
    "        temppe.append(tempi - tloc[0])\n",
    "    elif token.i in tloc:\n",
    "        temppe.append(tempi - lasth)\n",
    "        temppe.append(0)\n",
    "    elif tempi <= hloc[0] and token.i <= tloc[0]:\n",
    "        temppe.append(tempi - hloc[0])\n",
    "        temppe.append(tempi - tloc[0])\n",
    "    elif tempi >= lasth and tempi <= tloc[0]:\n",
    "        temppe.append(tempi - lasth) \n",
    "        temppe.append(tempi - tloc[0])\n",
    "    elif tempi <= hloc[0] and tempi >= lastt:\n",
    "        temppe.append(tempi - hloc[0])\n",
    "        temppe.append(tempi - lastt)\n",
    "    elif  tempi >= lasth and tempi >= lastt:\n",
    "        temppe.append(tempi - lasth) \n",
    "        temppe.append(tempi - lastt)\n",
    "    elif tempi >= lastt and tempi <= hloc[0]:\n",
    "        temppe.append(tempi - hloc[0]) \n",
    "        temppe.append(tempi - lastt)\n",
    "    else:\n",
    "        print(tempi) \n",
    "    docpe.append(temppe)\n",
    "print(docpe)"
   ]
  },
  {
   "cell_type": "code",
   "execution_count": 70,
   "metadata": {
    "tags": []
   },
   "outputs": [
    {
     "output_type": "stream",
     "name": "stdout",
     "text": "{\"text\":{\"id\":\"Christie Van Kehrberg , of Astoria , Queens , works at a financial company in Manhattan .\",\"name\":\"Christie Van Kehrberg , of Astoria , Queens , works at a financial company in Manhattan .\",\"pos\":\"Christie Van Kehrberg , of Astoria , Queens , works at a financial company in Manhattan .\"},\"relation\":{\"id\":\"\\/location\\/neighborhood\\/neighborhood_of\",\"name\":\"\\/location\\/neighborhood\\/neighborhood_of\",\"pos\":\"\\/location\\/neighborhood\\/neighborhood_of\"},\"h\":{\"id\":\"\\/guid\\/9202a8c04000641f80000000001b2f9f\",\"name\":\"Astoria\",\"pos\":[27,34]},\"t\":{\"id\":\"\\/guid\\/9202a8c04000641f800000000005af5c\",\"name\":\"Queens\",\"pos\":[37,43]}}\n"
    }
   ],
   "source": [
    "print(df.to_json())"
   ]
  },
  {
   "cell_type": "code",
   "execution_count": 32,
   "metadata": {},
   "outputs": [
    {
     "output_type": "execute_result",
     "data": {
      "text/plain": "\"Not many people have cooler family closets to raid than Theodora Richards , the daughter of the Rolling Stones guitarist Keith Richards and the 70 's supermodel Patti Hansen .\""
     },
     "metadata": {},
     "execution_count": 32
    }
   ],
   "source": [
    "df.text.id"
   ]
  },
  {
   "cell_type": "code",
   "execution_count": 37,
   "metadata": {},
   "outputs": [
    {
     "output_type": "execute_result",
     "data": {
      "text/plain": "28"
     },
     "metadata": {},
     "execution_count": 37
    }
   ],
   "source": [
    "lasth"
   ]
  },
  {
   "cell_type": "code",
   "execution_count": 39,
   "metadata": {},
   "outputs": [
    {
     "output_type": "execute_result",
     "data": {
      "text/plain": "27"
     },
     "metadata": {},
     "execution_count": 39
    }
   ],
   "source": [
    "hloc[0]"
   ]
  },
  {
   "cell_type": "code",
   "execution_count": 14,
   "metadata": {},
   "outputs": [
    {
     "output_type": "execute_result",
     "data": {
      "text/plain": "                                                   text  \\\nid    He is survived by his adoring wife Carmen Grau...   \nname  He is survived by his adoring wife Carmen Grau...   \npos   He is survived by his adoring wife Carmen Grau...   \n\n                                       relation  \\\nid    /location/administrative_division/country   \nname  /location/administrative_division/country   \npos   /location/administrative_division/country   \n\n                                           h  \\\nid    /guid/9202a8c04000641f800000000000b4c2   \nname                               Barcelona   \npos                               [361, 370]   \n\n                                           t  \nid    /guid/9202a8c04000641f8000000000034e30  \nname                                   Spain  \npos                               [373, 378]  ",
      "text/html": "<div>\n<style scoped>\n    .dataframe tbody tr th:only-of-type {\n        vertical-align: middle;\n    }\n\n    .dataframe tbody tr th {\n        vertical-align: top;\n    }\n\n    .dataframe thead th {\n        text-align: right;\n    }\n</style>\n<table border=\"1\" class=\"dataframe\">\n  <thead>\n    <tr style=\"text-align: right;\">\n      <th></th>\n      <th>text</th>\n      <th>relation</th>\n      <th>h</th>\n      <th>t</th>\n    </tr>\n  </thead>\n  <tbody>\n    <tr>\n      <th>id</th>\n      <td>He is survived by his adoring wife Carmen Grau...</td>\n      <td>/location/administrative_division/country</td>\n      <td>/guid/9202a8c04000641f800000000000b4c2</td>\n      <td>/guid/9202a8c04000641f8000000000034e30</td>\n    </tr>\n    <tr>\n      <th>name</th>\n      <td>He is survived by his adoring wife Carmen Grau...</td>\n      <td>/location/administrative_division/country</td>\n      <td>Barcelona</td>\n      <td>Spain</td>\n    </tr>\n    <tr>\n      <th>pos</th>\n      <td>He is survived by his adoring wife Carmen Grau...</td>\n      <td>/location/administrative_division/country</td>\n      <td>[361, 370]</td>\n      <td>[373, 378]</td>\n    </tr>\n  </tbody>\n</table>\n</div>"
     },
     "metadata": {},
     "execution_count": 14
    }
   ],
   "source": [
    "df"
   ]
  },
  {
   "cell_type": "code",
   "execution_count": null,
   "metadata": {},
   "outputs": [],
   "source": [
    "df = pd.DataFrame(columns=[\"text\",\"relation\",\"h\",\"t\"])"
   ]
  }
 ],
 "metadata": {
  "language_info": {
   "codemirror_mode": {
    "name": "ipython",
    "version": 3
   },
   "file_extension": ".py",
   "mimetype": "text/x-python",
   "name": "python",
   "nbconvert_exporter": "python",
   "pygments_lexer": "ipython3",
   "version": "3.6.10-final"
  },
  "orig_nbformat": 2,
  "kernelspec": {
   "name": "python361064bitrecondac88fba6eef704717871dbbf8f96aa338",
   "display_name": "Python 3.6.10 64-bit ('re': conda)"
  }
 },
 "nbformat": 4,
 "nbformat_minor": 2
}