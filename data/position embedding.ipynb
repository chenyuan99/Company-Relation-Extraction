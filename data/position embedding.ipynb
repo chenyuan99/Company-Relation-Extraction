{
 "cells": [
  {
   "cell_type": "code",
   "execution_count": 1,
   "metadata": {
    "tags": []
   },
   "outputs": [
    {
     "output_type": "error",
     "ename": "FileNotFoundError",
     "evalue": "[Errno 2] No such file or directory: 'nyt10_train_no_na'",
     "traceback": [
      "\u001b[1;31m---------------------------------------------------------------------------\u001b[0m",
      "\u001b[1;31mFileNotFoundError\u001b[0m                         Traceback (most recent call last)",
      "\u001b[1;32m<ipython-input-1-aba5d723b20a>\u001b[0m in \u001b[0;36m<module>\u001b[1;34m\u001b[0m\n\u001b[0;32m      1\u001b[0m \u001b[1;32mimport\u001b[0m \u001b[0mpandas\u001b[0m \u001b[1;32mas\u001b[0m \u001b[0mpd\u001b[0m\u001b[1;33m\u001b[0m\u001b[1;33m\u001b[0m\u001b[0m\n\u001b[1;32m----> 2\u001b[1;33m \u001b[1;32mwith\u001b[0m \u001b[0mopen\u001b[0m\u001b[1;33m(\u001b[0m\u001b[1;34m\"nyt10_train_no_na\"\u001b[0m\u001b[1;33m,\u001b[0m \u001b[1;34m'r'\u001b[0m\u001b[1;33m,\u001b[0m \u001b[0mencoding\u001b[0m \u001b[1;33m=\u001b[0m \u001b[1;34m'utf-8'\u001b[0m\u001b[1;33m)\u001b[0m \u001b[1;32mas\u001b[0m \u001b[0mf\u001b[0m\u001b[1;33m:\u001b[0m\u001b[1;33m\u001b[0m\u001b[1;33m\u001b[0m\u001b[0m\n\u001b[0m\u001b[0;32m      3\u001b[0m     \u001b[0mdf\u001b[0m \u001b[1;33m=\u001b[0m \u001b[0mpd\u001b[0m\u001b[1;33m.\u001b[0m\u001b[0mread_csv\u001b[0m \u001b[1;33m(\u001b[0m\u001b[0mf\u001b[0m\u001b[1;33m)\u001b[0m\u001b[1;33m\u001b[0m\u001b[1;33m\u001b[0m\u001b[0m\n",
      "\u001b[1;31mFileNotFoundError\u001b[0m: [Errno 2] No such file or directory: 'nyt10_train_no_na'"
     ]
    }
   ],
   "source": [
    "import pandas as pd\n",
    "with open(\"nyt10_train_no_na.csv\", 'r', encoding = 'utf-8') as f:\n",
    "    df = pd.read_csv (f)"
   ]
  },
  {
   "cell_type": "code",
   "execution_count": 2,
   "metadata": {
    "tags": []
   },
   "outputs": [
    {
     "output_type": "stream",
     "name": "stdout",
     "text": "[[-9, -22], [-8, -21], [-7, -20], [-6, -19], [-5, -18], [-4, -17], [-3, -16], [-2, -15], [-1, -14], [0, -13], [], [], [], [], [], [], [], [0, -5], [], [0, -3], [0, -2], [0, -1], [0, 0], [], [], [], [-1, 0], [0, 5], [1, 1], [2, 2], [3, 3], [4, 4], [5, 5], [6, 6], [7, 7], [8, 8], [9, 9], [10, 10], [11, 11], [12, 12], [13, 13], [14, 14], [15, 15], [16, 16], [17, 17], [18, 18], [19, 19], [20, 20], [21, 21], [22, 22], [23, 23], [24, 24], [25, 25], [26, 26]]\n"
    }
   ],
   "source": [
    "import spacy\n",
    "i = 1\n",
    "nlp = spacy.load(\"en_core_web_sm\")\n",
    "doc = nlp(df.loc[i].text)\n",
    "temp = []\n",
    "temph = df.loc[i].h\n",
    "tempt = df.loc[i].t\n",
    "doch = nlp(temph)\n",
    "doct = nlp(tempt)\n",
    "tempht = []\n",
    "temptt = []\n",
    "hloc = []\n",
    "tloc =[]\n",
    "docpe =[]\n",
    "for token in doch:\n",
    "    tempht.append(token.text)\n",
    "for token in doct:\n",
    "    temptt.append(token.text)\n",
    "for token in doc:\n",
    "    if token.text in tempht: hloc.append(token.i)\n",
    "    if token.text in temptt: tloc.append(token.i)\n",
    "for token in doc:\n",
    "    temppe = []\n",
    "    tempi = token.i\n",
    "    lastt = tloc[len(tloc) - 1]\n",
    "    lasth = hloc[len(hloc) - 1]\n",
    "    if token.i in hloc:\n",
    "        temppe.append(0)\n",
    "        temppe.append(tempi - tloc[0])\n",
    "    elif token.i in tloc:\n",
    "        temppe.append(tempi - lasth)\n",
    "        temppe.append(0)\n",
    "    elif tempi <= hloc[0] and token.i <= tloc[0]:\n",
    "        temppe.append(tempi - hloc[0])\n",
    "        temppe.append(tempi - tloc[0])\n",
    "    elif tempi >= lasth and token.i <= tloc[0]:\n",
    "        temppe.append(tempi - lasth) \n",
    "        temppe.append(tempi - tloc[0])\n",
    "    elif tempi <= hloc[0] and token.i >= lastt:\n",
    "        temppe.append(tempi - hloc[0])\n",
    "        temppe.append(tempi - lastt)\n",
    "    elif  tempi >= lasth and token.i >= lastt:\n",
    "        temppe.append(tempi - lasth) \n",
    "        temppe.append(tempi - lastt)\n",
    "    docpe.append(temppe)\n",
    "print(docpe)"
   ]
  },
  {
   "cell_type": "code",
   "execution_count": 4,
   "metadata": {},
   "outputs": [],
   "source": [
    "def getdocpe(i):\n",
    "    doc = nlp(df.loc[i].text)\n",
    "    temp = []\n",
    "    temph = df.loc[i].h\n",
    "    tempt = df.loc[i].t\n",
    "    doch = nlp(temph)\n",
    "    doct = nlp(tempt)\n",
    "    tempht = []\n",
    "    temptt = []\n",
    "    hloc = []\n",
    "    tloc =[]\n",
    "    docpe =[]\n",
    "    for token in doch:\n",
    "        tempht.append(token.text)\n",
    "    for token in doct:\n",
    "        temptt.append(token.text)\n",
    "    for token in doc:\n",
    "        if token.text in tempht: hloc.append(token.i)\n",
    "        if token.text in temptt: tloc.append(token.i)\n",
    "    for token in doc:\n",
    "        temppe = []\n",
    "        tempi = token.i\n",
    "        lastt = tloc[len(tloc) - 1]\n",
    "        lasth = hloc[len(hloc) - 1]\n",
    "        if token.i in hloc:\n",
    "            temppe.append(0)\n",
    "            temppe.append(tempi - tloc[0])\n",
    "        elif token.i in tloc:\n",
    "            temppe.append(tempi - lasth)\n",
    "            temppe.append(0)\n",
    "        elif tempi <= hloc[0] and token.i <= tloc[0]:\n",
    "            temppe.append(tempi - hloc[0])\n",
    "            temppe.append(tempi - tloc[0])\n",
    "        elif tempi >= lasth and token.i <= tloc[0]:\n",
    "            temppe.append(tempi - lasth) \n",
    "            temppe.append(tempi - tloc[0])\n",
    "        elif tempi <= hloc[0] and token.i >= lastt:\n",
    "            temppe.append(tempi - hloc[0])\n",
    "            temppe.append(tempi - lastt)\n",
    "        elif  tempi >= lasth and token.i >= lastt:\n",
    "            temppe.append(tempi - lasth) \n",
    "            temppe.append(tempi - lastt)\n",
    "        docpe.append(temppe)\n",
    "    return docpe"
   ]
  },
  {
   "cell_type": "code",
   "execution_count": 5,
   "metadata": {
    "tags": []
   },
   "outputs": [],
   "source": [
    "import spacy\n",
    "import numpy as np\n",
    "i = 1\n",
    "nlp = spacy.load(\"en_core_web_sm\")\n",
    "pe = []\n",
    "while i <= len(df):\n",
    "    if i % 3 != 1: \n",
    "        pe.append(np.nan)\n",
    "    else:\n",
    "        pe.append(getdocpe(i))\n",
    "    i += 1\n",
    "# print(pe)"
   ]
  },
  {
   "cell_type": "code",
   "execution_count": 6,
   "metadata": {},
   "outputs": [],
   "source": [
    "df[\"pe\"] = pe\n",
    "df.to_csv (\"nyt10_train_NA_pe.csv\")"
   ]
  },
  {
   "cell_type": "code",
   "execution_count": null,
   "metadata": {},
   "outputs": [],
   "source": []
  }
 ],
 "metadata": {
  "language_info": {
   "codemirror_mode": {
    "name": "ipython",
    "version": 3
   },
   "file_extension": ".py",
   "mimetype": "text/x-python",
   "name": "python",
   "nbconvert_exporter": "python",
   "pygments_lexer": "ipython3",
   "version": "3.6.10-final"
  },
  "orig_nbformat": 2,
  "kernelspec": {
   "name": "python361064bitrecondac88fba6eef704717871dbbf8f96aa338",
   "display_name": "Python 3.6.10 64-bit ('re': conda)"
  }
 },
 "nbformat": 4,
 "nbformat_minor": 2
}